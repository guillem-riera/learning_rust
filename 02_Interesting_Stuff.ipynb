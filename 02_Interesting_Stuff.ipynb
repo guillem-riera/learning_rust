{
 "cells": [
  {
   "cell_type": "markdown",
   "id": "plain-playlist",
   "metadata": {},
   "source": [
    "# Rust interesting stuff"
   ]
  },
  {
   "cell_type": "markdown",
   "id": "european-worry",
   "metadata": {},
   "source": [
    "## 'Null' absence, Optionals, Some and None\n",
    "\n",
    "Rust has no 'null' value by design (think about the memory safety, null pointers, etc. errors that plague C/C++ programs and all the error handling that it incurrs accessing memory collections).\n",
    "\n",
    "Instead, Rust embraces optionals and provides `Some` and `None` functions to handle elegant access to optionals.\n",
    "\n",
    "In the following examples we will access a collection of characters out of a string and access some members through the `nth` collection function, which wraps the content type into an `Optional` value."
   ]
  },
  {
   "cell_type": "code",
   "execution_count": 2,
   "id": "rocky-description",
   "metadata": {
    "vscode": {
     "languageId": "rust"
    }
   },
   "outputs": [
    {
     "name": "stdout",
     "output_type": "stream",
     "text": [
      "R\n"
     ]
    }
   ],
   "source": [
    "let phrase = String::from(\"Rust has no 'null' values\");\n",
    "let first = phrase.chars().nth(0);\n",
    "// unwrapping an optional can panic\n",
    "println!(\"{}\", first.unwrap());"
   ]
  },
  {
   "cell_type": "code",
   "execution_count": 3,
   "id": "disabled-shareware",
   "metadata": {
    "vscode": {
     "languageId": "rust"
    }
   },
   "outputs": [
    {
     "name": "stderr",
     "output_type": "stream",
     "text": [
      "thread '<unnamed>' panicked at 'called `Option::unwrap()` on a `None` value', src/lib.rs:112:21\n",
      "stack backtrace:\n",
      "   0: _rust_begin_unwind\n",
      "   1: core::panicking::panic_fmt\n",
      "   2: core::panicking::panic\n",
      "   3: _run_user_code_2\n",
      "   4: evcxr::runtime::Runtime::run_loop\n",
      "   5: evcxr::runtime::runtime_hook\n",
      "   6: evcxr_jupyter::main\n",
      "note: Some details are omitted, run with `RUST_BACKTRACE=full` for a verbose backtrace.\n"
     ]
    },
    {
     "ename": "Error",
     "evalue": "Child process terminated with status: exit status: 101",
     "output_type": "error",
     "traceback": [
      "Child process terminated with status: exit status: 101"
     ]
    }
   ],
   "source": [
    "// showcasing a wrong unwrap:\n",
    "let last = phrase.chars().nth(100);\n",
    "// unwrapping an optional can panic\n",
    "println!(\"{}\", last.unwrap());"
   ]
  },
  {
   "cell_type": "code",
   "execution_count": 11,
   "id": "modular-plumbing",
   "metadata": {
    "vscode": {
     "languageId": "rust"
    }
   },
   "outputs": [
    {
     "name": "stdout",
     "output_type": "stream",
     "text": [
      "Char: R in Position: 0\n",
      "Char: u in Position: 1\n",
      "Char: s in Position: 2\n",
      "Char: t in Position: 3\n",
      "Char: : in Position: 4\n",
      "Char: S in Position: 5\n"
     ]
    },
    {
     "data": {
      "text/plain": [
       "()"
      ]
     },
     "execution_count": 11,
     "metadata": {},
     "output_type": "execute_result"
    },
    {
     "name": "stdout",
     "output_type": "stream",
     "text": [
      "Char: o in Position: 6\n",
      "Char: m in Position: 7\n",
      "Char: e in Position: 8\n",
      "Char: / in Position: 9\n",
      "Char: N in Position: 10\n",
      "Char: o in Position: 11\n",
      "Char: n in Position: 12\n",
      "Char: e in Position: 13\n",
      "No Char in Position: 14\n",
      "No Char in Position: 15\n",
      "No Char in Position: 16\n",
      "No Char in Position: 17\n",
      "No Char in Position: 18\n",
      "No Char in Position: 19\n",
      "No Char in Position: 20\n",
      "No Char in Position: 21\n",
      "No Char in Position: 22\n"
     ]
    }
   ],
   "source": [
    "let phrase = String::from(\"Rust:Some/None\");\n",
    "let positions: Vec<u8> = (0u8..23).collect();\n",
    "for p in positions {\n",
    "    let optional_character = phrase.chars().nth(p.into());\n",
    "    match optional_character {\n",
    "        Some(character) => println!(\"Char: {} in Position: {}\", character, p),\n",
    "        None => println!(\"No Char in Position: {}\", p)\n",
    "    }\n",
    "}\n"
   ]
  },
  {
   "cell_type": "markdown",
   "id": "speaking-antenna",
   "metadata": {},
   "source": [
    "### Alternative: Unwrapping from Optional to Result"
   ]
  },
  {
   "cell_type": "code",
   "execution_count": 10,
   "id": "competent-canyon",
   "metadata": {
    "vscode": {
     "languageId": "rust"
    }
   },
   "outputs": [
    {
     "data": {
      "text/plain": [
       "()"
      ]
     },
     "execution_count": 10,
     "metadata": {},
     "output_type": "execute_result"
    },
    {
     "name": "stdout",
     "output_type": "stream",
     "text": [
      "Char: R in Position: 0\n",
      "Char: u in Position: 1\n",
      "Char: s in Position: 2\n",
      "Char: t in Position: 3\n",
      "Char: : in Position: 4\n",
      "Char: O in Position: 5\n",
      "Char: p in Position: 6\n",
      "Char: t in Position: 7\n",
      "Char: i in Position: 8\n",
      "Char: o in Position: 9\n",
      "Char: n in Position: 10\n",
      "Char: a in Position: 11\n",
      "Char: l in Position: 12\n",
      "Char: / in Position: 13\n",
      "Char: R in Position: 14\n",
      "Char: e in Position: 15\n",
      "Char: s in Position: 16\n",
      "Char: u in Position: 17\n",
      "Char: l in Position: 18\n",
      "Char: t in Position: 19\n",
      "No Char in Position: 20\n",
      "No Char in Position: 21\n",
      "No Char in Position: 22\n"
     ]
    }
   ],
   "source": [
    "// In this variation we can get a Result out of an Optional value.\n",
    "// It is the same, but semantically different: we \"speak\" about an 'OK' match, instead of 'Some' or 'None'\n",
    "let phrase = String::from(\"Rust:Optional/Result\");\n",
    "let positions: Vec<u8> = (0u8..23).collect();\n",
    "for p in positions {\n",
    "    let optional_character = phrase.chars().nth(p as usize);\n",
    "    // use .ok_or from an Optional to get a result\n",
    "    match optional_character.ok_or(\"item not found\") {\n",
    "        Ok(character) => println!(\"Char: {} in Position: {}\", character, p),\n",
    "        _notOk => println!(\"No Char in Position: {}\", p)\n",
    "    }\n",
    "}"
   ]
  },
  {
   "cell_type": "markdown",
   "id": "international-globe",
   "metadata": {},
   "source": [
    "## match, if and if let\n",
    "\n",
    "Match is a robust switch statement, and `if let` is a short circuit conditional assignation and code statement execution.\n",
    "\n",
    "See this samples to compare the usage in conditionals:"
   ]
  },
  {
   "cell_type": "code",
   "execution_count": 19,
   "id": "expired-throat",
   "metadata": {
    "vscode": {
     "languageId": "rust"
    }
   },
   "outputs": [
    {
     "name": "stdout",
     "output_type": "stream",
     "text": [
      "10\n",
      "10\n",
      "10\n"
     ]
    }
   ],
   "source": [
    "fn do_something_for_element_10_in_a_non_idiomatic_way(v: Vec<u8>) {\n",
    "    for e in v {\n",
    "        if e == 10 {\n",
    "            println!(\"{}\", e);\n",
    "        }\n",
    "    }\n",
    "}\n",
    "\n",
    "fn do_something_for_if_match_10(v: Vec<u8>) {\n",
    "    for e in v {\n",
    "        match e {\n",
    "            10 => println!(\"{}\", e),\n",
    "            _ => ()\n",
    "        }\n",
    "    }\n",
    "}\n",
    "\n",
    "\n",
    "fn do_something_if_let_10(v: Vec<u8>) {\n",
    "    for e in v {\n",
    "        if let 10 = e {\n",
    "            println!(\"{}\", e);\n",
    "        }\n",
    "    }\n",
    "}\n",
    "\n",
    "\n",
    "\n",
    "let elements: Vec<u8> = (0..255).collect();\n",
    "\n",
    "do_something_for_element_10_in_a_non_idiomatic_way(elements);\n",
    "\n",
    "let elements: Vec<u8> = (0..255).collect();\n",
    "\n",
    "do_something_for_if_match_10(elements);\n",
    "\n",
    "let elements: Vec<u8> = (0..255).collect();\n",
    "\n",
    "do_something_if_let_10(elements);\n",
    "\n"
   ]
  },
  {
   "cell_type": "markdown",
   "id": "bca8b427",
   "metadata": {},
   "source": [
    "## Strings\n",
    "\n",
    "Rust has 2 different concepts for strings:\n",
    "- `string literals`, which are not mutable and can be allocated on the *stack* because the size is known by the compiler.\n",
    "- `Strings` (capitalized), which *may* mutate (they might still require the *mut* keyword) and that are of unknown size, therefore allocated on the *heap*. \n"
   ]
  },
  {
   "cell_type": "code",
   "execution_count": 4,
   "id": "technological-adaptation",
   "metadata": {
    "vscode": {
     "languageId": "rust"
    }
   },
   "outputs": [
    {
     "name": "stdout",
     "output_type": "stream",
     "text": [
      "immutable string\n"
     ]
    }
   ],
   "source": [
    "let string_literal_example = \"immutable string\";\n",
    "println!(\"{}\", string_literal_example);"
   ]
  },
  {
   "cell_type": "code",
   "execution_count": 6,
   "id": "a45943af",
   "metadata": {
    "vscode": {
     "languageId": "rust"
    }
   },
   "outputs": [
    {
     "name": "stdout",
     "output_type": "stream",
     "text": [
      "some value which can grow and change size and therefore will be allocated in the heap.\n"
     ]
    }
   ],
   "source": [
    "let mut mutable_string_with_variable_size = String::from(\"some value\");\n",
    "mutable_string_with_variable_size += \" which can grow and change size\";\n",
    "mutable_string_with_variable_size += \" and therefore will be allocated in the heap.\";\n",
    "println!(\"{}\", mutable_string_with_variable_size);"
   ]
  },
  {
   "cell_type": "markdown",
   "source": [
    "## Variable Scope (and lifecycle)\n",
    "\n",
    "Variables are scoped in Rust and their lifecycle is tied to their declaration.\n",
    "\n",
    "`{}` define scopes (even without the function keyword).\n",
    "\n",
    "When a variable goes out of scope (right after the closing curly brace), Rust calls a special function for us: `drop`.\n"
   ],
   "metadata": {
    "collapsed": false,
    "pycharm": {
     "name": "#%% md\n"
    }
   }
  },
  {
   "cell_type": "code",
   "source": [
    "{\n",
    "    let mut s = String::from(\"hello\"); // s is valid from this point forward and is allocated in the heap because\n",
    "    // its size is not known at all times by the compiler.\n",
    "} // this scope is now over, and s is no longer valid. Rust calls `drop` at this point for us.\n",
    "// this means that the memory will be freed (there are no more owners)."
   ],
   "metadata": {
    "collapsed": false,
    "pycharm": {
     "name": "#%%\n"
    }
   },
   "execution_count": 7,
   "outputs": []
  }
 ],
 "metadata": {
  "kernelspec": {
   "display_name": "Rust",
   "language": "rust",
   "name": "rust"
  },
  "language_info": {
   "codemirror_mode": "rust",
   "file_extension": ".rs",
   "mimetype": "text/rust",
   "name": "Rust",
   "pygment_lexer": "rust",
   "version": ""
  }
 },
 "nbformat": 4,
 "nbformat_minor": 5
}