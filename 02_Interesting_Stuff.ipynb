{
 "cells": [
  {
   "cell_type": "markdown",
   "id": "threatened-multiple",
   "metadata": {},
   "source": [
    "# Rust interesting stuff"
   ]
  },
  {
   "cell_type": "markdown",
   "id": "extensive-relations",
   "metadata": {},
   "source": [
    "## 'Null' absence, Optionals, Some and None\n",
    "\n",
    "Rust has no 'null' value by design (think about the memory safety, null pointers, etc. errors that plague C/C++ programs and all the error handling that it incurrs accessing memory collections).\n",
    "\n",
    "Instead, Rust embraces optionals and provides `Some` and `None` functions to handle elegant access to optionals.\n",
    "\n",
    "In the following examples we will access a collection of characters out of a string and access some members through the `nth` collection function, which wraps the content type into an `Optional` value."
   ]
  },
  {
   "cell_type": "code",
   "execution_count": 4,
   "id": "distinguished-retention",
   "metadata": {},
   "outputs": [
    {
     "name": "stdout",
     "output_type": "stream",
     "text": [
      "R\n"
     ]
    }
   ],
   "source": [
    "let phrase = String::from(\"Rust has no 'null' values\");\n",
    "let first = phrase.chars().nth(0);\n",
    "// unwrapping an optional can panic\n",
    "println!(\"{}\", first.unwrap());"
   ]
  },
  {
   "cell_type": "code",
   "execution_count": 5,
   "id": "inappropriate-material",
   "metadata": {},
   "outputs": [
    {
     "name": "stderr",
     "output_type": "stream",
     "text": [
      "thread '<unnamed>' panicked at 'called `Option::unwrap()` on a `None` value', src/lib.rs:112:21\n",
      "stack backtrace:\n",
      "   0: _rust_begin_unwind\n",
      "   1: core::panicking::panic_fmt\n",
      "   2: core::panicking::panic\n",
      "   3: _run_user_code_4\n",
      "   4: evcxr::runtime::Runtime::run_loop\n",
      "   5: evcxr::runtime::runtime_hook\n",
      "   6: evcxr_jupyter::main\n",
      "note: Some details are omitted, run with `RUST_BACKTRACE=full` for a verbose backtrace.\n"
     ]
    },
    {
     "ename": "Error",
     "evalue": "Child process terminated with status: exit status: 101",
     "output_type": "error",
     "traceback": [
      "Child process terminated with status: exit status: 101"
     ]
    }
   ],
   "source": [
    "// showcasing a wrong unwrap:\n",
    "let last = phrase.chars().nth(100);\n",
    "// unwrapping an optional can panic\n",
    "println!(\"{}\", last.unwrap());"
   ]
  },
  {
   "cell_type": "code",
   "execution_count": 10,
   "id": "bronze-medicaid",
   "metadata": {},
   "outputs": [
    {
     "name": "stdout",
     "output_type": "stream",
     "text": [
      "Char: R in Position: 0\n",
      "Char: u in Position: 1\n",
      "Char: s in Position: 2\n",
      "Char: t in Position: 3\n",
      "Char: : in Position: 4\n",
      "Char: S in Position: 5\n",
      "Char: o in Position: 6\n",
      "Char: m in Position: 7\n",
      "Char: e in Position: 8\n",
      "Char: / in Position: 9\n",
      "Char: N in Position: 10\n",
      "Char: o in Position: 11\n",
      "Char: n in Position: 12\n",
      "Char: e in Position: 13\n",
      "No Char in Position: 14\n",
      "No Char in Position: 15\n",
      "No Char in Position: 16\n",
      "No Char in Position: 17\n",
      "No Char in Position: 18\n",
      "No Char in Position: 19\n",
      "No Char in Position: 20\n",
      "No Char in Position: 21\n",
      "No Char in Position: 22\n",
      "No Char in Position: 23\n",
      "No Char in Position: 24\n",
      "No Char in Position: 25\n",
      "No Char in Position: 26\n",
      "No Char in Position: 27\n",
      "No Char in Position: 28\n",
      "No Char in Position: 29\n",
      "No Char in Position: 30\n"
     ]
    },
    {
     "data": {
      "text/plain": [
       "()"
      ]
     },
     "execution_count": 10,
     "metadata": {},
     "output_type": "execute_result"
    }
   ],
   "source": [
    "let phrase = String::from(\"Rust:Some/None\");\n",
    "let positions: Vec<u8> = (0u8..31).collect();\n",
    "for p in positions {\n",
    "    let optional_character = phrase.chars().nth(p.into());\n",
    "    match optional_character {\n",
    "        Some(character) => println!(\"Char: {} in Position: {}\", character, p),\n",
    "        None => println!(\"No Char in Position: {}\", p)\n",
    "    }\n",
    "}\n"
   ]
  },
  {
   "cell_type": "code",
   "execution_count": null,
   "id": "appreciated-marking",
   "metadata": {},
   "outputs": [],
   "source": []
  }
 ],
 "metadata": {
  "kernelspec": {
   "display_name": "Rust",
   "language": "rust",
   "name": "rust"
  },
  "language_info": {
   "codemirror_mode": "rust",
   "file_extension": ".rs",
   "mimetype": "text/rust",
   "name": "Rust",
   "pygment_lexer": "rust",
   "version": ""
  }
 },
 "nbformat": 4,
 "nbformat_minor": 5
}
