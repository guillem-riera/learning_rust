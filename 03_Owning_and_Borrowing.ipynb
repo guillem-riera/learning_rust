{
 "cells": [
  {
   "cell_type": "markdown",
   "id": "pretty-ownership",
   "metadata": {},
   "source": [
    "# Owning and Borrowing\n",
    "\n",
    "Are concepts for safe memory management\n",
    "\n",
    "## Owning\n",
    "\n",
    "is the concept of the ownership over a memory reference (a value), normally indicated by a variable.\n"
   ]
  },
  {
   "cell_type": "code",
   "execution_count": 2,
   "id": "abandoned-manner",
   "metadata": {},
   "outputs": [
    {
     "name": "stdout",
     "output_type": "stream",
     "text": [
      "String\n"
     ]
    }
   ],
   "source": [
    "// Let's create a memory string (`Strings` are stored in the heap) and print it\n",
    "let s = String::from(\"String\");\n",
    "println!(\"{}\", s);"
   ]
  },
  {
   "cell_type": "code",
   "execution_count": 4,
   "id": "stretch-contest",
   "metadata": {},
   "outputs": [
    {
     "ename": "Error",
     "evalue": "borrow of moved value: `s`",
     "output_type": "error",
     "traceback": [
      "let new_string_owner = s;",
      "\u001b[91m                       ^\u001b[0m \u001b[94mvalue moved here\u001b[0m",
      "println!(\"{}\", s);",
      "\u001b[91m               ^\u001b[0m \u001b[94mvalue borrowed here after move\u001b[0m",
      "let s = String::from(\"String\");",
      "\u001b[91m    ^\u001b[0m \u001b[94mmove occurs because `s` has type `String`, which does not implement the `Copy` trait\u001b[0m",
      "borrow of moved value: `s`"
     ]
    }
   ],
   "source": [
    "// we repeat the same steps and then continue at step 2\n",
    "let s = String::from(\"String\");\n",
    "println!(\"{}\", s);\n",
    "// step 2: we point a new variable to be the new owner of that String in the heap\n",
    "let new_string_owner = s;\n",
    "println!(\"{}\", new_string_owner);\n",
    "// and this will fail.\n",
    "// =================================================================\n",
    "// Check how elegantly the compiler tells us that the value \"moved\"\n",
    "// =================================================================\n",
    "println!(\"{}\", s);"
   ]
  },
  {
   "cell_type": "markdown",
   "id": "impressive-hunter",
   "metadata": {},
   "source": [
    "## Borrowing\n",
    "\n"
   ]
  },
  {
   "cell_type": "code",
   "execution_count": 8,
   "id": "stock-discount",
   "metadata": {},
   "outputs": [
    {
     "name": "stdout",
     "output_type": "stream",
     "text": [
      "String\n",
      "String\n",
      "String\n"
     ]
    }
   ],
   "source": [
    "// if we repeat the same steps but instead use a str slice (string literal), which is immutable ...\n",
    "let s = \"String\";\n",
    "println!(\"{}\", s);\n",
    "// step 2: we point a new variable to be the new owner of that string literal, \n",
    "// but this time we use a reference of a staticat lifetime str, which is guaranteed to be valid for the duration of the entire program\n",
    "let new_string_owner = s;\n",
    "println!(\"{}\", new_string_owner);\n",
    "// and this will just work.\n",
    "// ==========================\n",
    "// Why does it work now?\n",
    "// ==========================\n",
    "// Because the variable is not mutable (slice), and is statical\n",
    "println!(\"{}\", s);"
   ]
  },
  {
   "cell_type": "code",
   "execution_count": 22,
   "id": "relative-astrology",
   "metadata": {},
   "outputs": [
    {
     "name": "stdout",
     "output_type": "stream",
     "text": [
      "String\n",
      "String(Modified)\n",
      "String(Modified)\n"
     ]
    }
   ],
   "source": [
    "// Borrowing mutable String\n",
    "// if we repeat the same steps but instead use a String that is mutable ...\n",
    "let mut s = String::from(\"String\");\n",
    "println!(\"{}\", s);\n",
    "// step 2: we point a new variable to be the new owner of that string literal, \n",
    "// but this time we use a reference of a staticat lifetime str, which is guaranteed to be valid for the duration of the entire program\n",
    "let mut new_string_owner = s;\n",
    "new_string_owner += \"(Modified)\";\n",
    "println!(\"{}\", new_string_owner);\n",
    "// and this will just NOT work. (try for yourself uncommenting and running it)\n",
    "// println!(\"{}\", s);\n",
    "// ==========================\n",
    "// Why doesn't it work now?\n",
    "// ==========================\n",
    "// Because the variable is now mutable, String lives in the heap and it does not implement `Copy`\n",
    "\n",
    "// If we regain ownership, it all works as expected though!\n",
    "// Give me my var back!\n",
    "s = new_string_owner;\n",
    "println!(\"{}\", s);\n",
    "\n",
    "// And this again won't work (try uncommenting). 'new_string_owner' is not anymore the current owner of the String value.\n",
    "// println!(\"{}\", new_string_owner);\n",
    "// If you would uncomment you can see a very descriptive explanation from the compiler."
   ]
  },
  {
   "cell_type": "markdown",
   "id": "starting-encoding",
   "metadata": {},
   "source": [
    "## Rust Compiler on borrowed and moved\n",
    "\n",
    "Rust compiler gives us very meaningfull messages about the borrowing and moving of variables.\n",
    "Reading the trace almost always suggest the root cause issue."
   ]
  },
  {
   "cell_type": "code",
   "execution_count": 23,
   "id": "smoking-hundred",
   "metadata": {},
   "outputs": [
    {
     "ename": "Error",
     "evalue": "borrow of moved value: `new_string_owner`",
     "output_type": "error",
     "traceback": [
      "s = new_string_owner;",
      "\u001b[91m    ^^^^^^^^^^^^^^^^\u001b[0m \u001b[94mvalue moved here\u001b[0m",
      "println!(\"{}\", new_string_owner);",
      "\u001b[91m               ^^^^^^^^^^^^^^^^\u001b[0m \u001b[94mvalue borrowed here after move\u001b[0m",
      "let mut new_string_owner = s;",
      "\u001b[91m    ^^^^^^^^^^^^^^^^^^^^\u001b[0m \u001b[94mmove occurs because `new_string_owner` has type `String`, which does not implement the `Copy` trait\u001b[0m",
      "borrow of moved value: `new_string_owner`"
     ]
    }
   ],
   "source": [
    "// Borrowing mutable String\n",
    "let mut s = String::from(\"String\");\n",
    "println!(\"{}\", s);\n",
    "let mut new_string_owner = s;\n",
    "new_string_owner += \"(Modified)\";\n",
    "println!(\"{}\", new_string_owner);\n",
    "// Give me my var back!\n",
    "s = new_string_owner;\n",
    "println!(\"{}\", s);\n",
    "\n",
    "// And this again won't work (try uncommenting). 'new_string_owner' is not anymore the current owner of the String value.\n",
    "println!(\"{}\", new_string_owner);\n",
    "// If you would uncomment you can see a very descriptive explanation from the compiler."
   ]
  },
  {
   "cell_type": "code",
   "execution_count": null,
   "id": "common-projection",
   "metadata": {},
   "outputs": [],
   "source": []
  }
 ],
 "metadata": {
  "kernelspec": {
   "display_name": "Rust",
   "language": "rust",
   "name": "rust"
  },
  "language_info": {
   "codemirror_mode": "rust",
   "file_extension": ".rs",
   "mimetype": "text/rust",
   "name": "Rust",
   "pygment_lexer": "rust",
   "version": ""
  }
 },
 "nbformat": 4,
 "nbformat_minor": 5
}
