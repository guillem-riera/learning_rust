{
  "cells": [
    {
      "cell_type": "markdown",
      "source": [
        "# Owning and Borrowing\n",
        "\n",
        "Are concepts for safe memory management\n",
        "\n",
        "## Owning\n",
        "\n",
        "is the concept of the ownership over a memory reference (a value), normally indicated by a variable.\n"
      ],
      "metadata": {},
      "id": "pretty-ownership"
    },
    {
      "cell_type": "code",
      "source": [
        "// Let's create a memory string (`Strings` are stored in the heap) and print it\n",
        "let s = String::from(\"String\");\n",
        "println!(\"{}\", s);"
      ],
      "outputs": [
        {
          "output_type": "stream",
          "name": "stdout",
          "text": [
            "String\n"
          ]
        }
      ],
      "execution_count": 10,
      "metadata": {
        "execution": {
          "iopub.status.busy": "2022-04-27T13:23:48.484Z",
          "iopub.execute_input": "2022-04-27T13:23:48.491Z",
          "iopub.status.idle": "2022-04-27T13:23:49.260Z",
          "shell.execute_reply": "2022-04-27T13:23:49.266Z"
        }
      },
      "id": "abandoned-manner"
    },
    {
      "cell_type": "code",
      "source": [
        "// we repeat the same steps and then continue at step 2\n",
        "let s = String::from(\"String\");\n",
        "println!(\"{}\", s);\n",
        "// step 2: we point a new variable to be the new owner of that String in the heap\n",
        "let new_string_owner = s;\n",
        "println!(\"{}\", new_string_owner);\n",
        "// and this will fail.\n",
        "// =================================================================\n",
        "// Check how elegantly the compiler tells us that the value \"moved\"\n",
        "// =================================================================\n",
        "println!(\"{}\", s);"
      ],
      "outputs": [
        {
          "output_type": "error",
          "ename": "Error",
          "evalue": "borrow of moved value: `s`",
          "traceback": [
            "let new_string_owner = s;",
            "                       ^ value moved here",
            "println!(\"{}\", s);",
            "               ^ value borrowed here after move",
            "let s = String::from(\"String\");",
            "    ^ move occurs because `s` has type `String`, which does not implement the `Copy` trait",
            "borrow of moved value: `s`"
          ]
        }
      ],
      "execution_count": 9,
      "metadata": {
        "execution": {
          "iopub.status.busy": "2022-04-27T13:23:44.307Z",
          "iopub.execute_input": "2022-04-27T13:23:44.313Z"
        }
      },
      "id": "stretch-contest"
    },
    {
      "cell_type": "markdown",
      "source": [
        "## Borrowing\n",
        "\n"
      ],
      "metadata": {},
      "id": "impressive-hunter"
    },
    {
      "cell_type": "code",
      "source": [
        "// if we repeat the same steps but instead use a str slice (string literal), which is immutable ...\n",
        "let s = \"String\";\n",
        "println!(\"{}\", s);\n",
        "// step 2: we point a new variable to be the new owner of that string literal, \n",
        "// but this time we use a reference of a staticat lifetime str, which is guaranteed to be valid for the duration of the entire program\n",
        "let new_string_owner = s;\n",
        "println!(\"{}\", new_string_owner);\n",
        "// and this will just work.\n",
        "// ==========================\n",
        "// Why does it work now?\n",
        "// ==========================\n",
        "// Because the variable is not mutable (slice), and is statical\n",
        "println!(\"{}\", s);"
      ],
      "outputs": [
        {
          "output_type": "stream",
          "name": "stdout",
          "text": [
            "String\n",
            "String\n",
            "String\n"
          ]
        }
      ],
      "execution_count": 11,
      "metadata": {
        "execution": {
          "iopub.status.busy": "2022-04-27T13:23:52.730Z",
          "iopub.execute_input": "2022-04-27T13:23:52.735Z",
          "iopub.status.idle": "2022-04-27T13:23:53.507Z",
          "shell.execute_reply": "2022-04-27T13:23:53.512Z"
        }
      },
      "id": "stock-discount"
    },
    {
      "cell_type": "code",
      "source": [
        "// Borrowing mutable String\n",
        "// if we repeat the same steps but instead use a String that is mutable ...\n",
        "let mut s = String::from(\"String\");\n",
        "println!(\"{}\", s);\n",
        "// step 2: we point a new variable to be the new owner of that string literal, \n",
        "// but this time we use a reference of a staticat lifetime str, which is guaranteed to be valid for the duration of the entire program\n",
        "let mut new_string_owner = s;\n",
        "new_string_owner += \"(Modified)\";\n",
        "println!(\"{}\", new_string_owner);\n",
        "// and this will just NOT work. (try for yourself uncommenting and running it)\n",
        "// println!(\"{}\", s);\n",
        "// ==========================\n",
        "// Why doesn't it work now?\n",
        "// ==========================\n",
        "// Because the variable is now mutable, String lives in the heap and it does not implement `Copy`\n",
        "\n",
        "// If we regain ownership, it all works as expected though!\n",
        "// Give me my var back!\n",
        "s = new_string_owner;\n",
        "println!(\"{}\", s);\n",
        "\n",
        "// And this again won't work (try uncommenting). 'new_string_owner' is not anymore the current owner of the String value.\n",
        "// println!(\"{}\", new_string_owner);\n",
        "// If you would uncomment you can see a very descriptive explanation from the compiler."
      ],
      "outputs": [
        {
          "output_type": "stream",
          "name": "stdout",
          "text": [
            "String\n",
            "String(Modified)\n",
            "String(Modified)\n"
          ]
        }
      ],
      "execution_count": 8,
      "metadata": {
        "execution": {
          "iopub.status.busy": "2022-04-27T13:23:39.367Z",
          "iopub.execute_input": "2022-04-27T13:23:39.372Z",
          "iopub.status.idle": "2022-04-27T13:23:40.258Z",
          "shell.execute_reply": "2022-04-27T13:23:40.356Z"
        }
      },
      "id": "relative-astrology"
    },
    {
      "cell_type": "markdown",
      "source": [
        "## Rust Compiler on borrowed and moved\n",
        "\n",
        "Rust compiler gives us very meaningfull messages about the borrowing and moving of variables.\n",
        "Reading the trace almost always suggest the root cause issue."
      ],
      "metadata": {},
      "id": "starting-encoding"
    },
    {
      "cell_type": "code",
      "source": [
        "// Borrowing mutable String\n",
        "let mut s = String::from(\"String\");\n",
        "println!(\"{}\", s);\n",
        "let mut new_string_owner = s;\n",
        "new_string_owner += \"(Modified)\";\n",
        "println!(\"{}\", new_string_owner);\n",
        "// Give me my var back!\n",
        "s = new_string_owner;\n",
        "println!(\"{}\", s);\n",
        "\n",
        "// And this again won't work (try uncommenting). 'new_string_owner' is not anymore the current owner of the String value.\n",
        "println!(\"{}\", new_string_owner);\n",
        "// If you would uncomment you can see a very descriptive explanation from the compiler."
      ],
      "outputs": [
        {
          "output_type": "error",
          "ename": "Error",
          "evalue": "borrow of moved value: `new_string_owner`",
          "traceback": [
            "s = new_string_owner;",
            "    ^^^^^^^^^^^^^^^^ value moved here",
            "println!(\"{}\", new_string_owner);",
            "               ^^^^^^^^^^^^^^^^ value borrowed here after move",
            "let mut new_string_owner = s;",
            "    ^^^^^^^^^^^^^^^^^^^^ move occurs because `new_string_owner` has type `String`, which does not implement the `Copy` trait",
            "borrow of moved value: `new_string_owner`"
          ]
        }
      ],
      "execution_count": 7,
      "metadata": {
        "execution": {
          "iopub.status.busy": "2022-04-27T13:23:34.572Z",
          "iopub.execute_input": "2022-04-27T13:23:34.578Z"
        }
      },
      "id": "smoking-hundred"
    },
    {
      "cell_type": "code",
      "source": [],
      "outputs": [],
      "execution_count": null,
      "metadata": {},
      "id": "common-projection"
    }
  ],
  "metadata": {
    "kernelspec": {
      "display_name": "Rust",
      "language": "rust",
      "name": "rust"
    },
    "language_info": {
      "name": "Rust",
      "version": "",
      "mimetype": "text/rust",
      "file_extension": ".rs",
      "pygment_lexer": "rust",
      "codemirror_mode": "rust"
    },
    "nteract": {
      "version": "0.28.0"
    }
  },
  "nbformat": 4,
  "nbformat_minor": 5
}