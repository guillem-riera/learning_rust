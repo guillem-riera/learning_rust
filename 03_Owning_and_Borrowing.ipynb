{
 "cells": [
  {
   "cell_type": "markdown",
   "source": [
    "# Owning and Borrowing\n",
    "\n",
    "Are concepts for safe memory management\n",
    "\n",
    "## Owning\n",
    "\n",
    "is the concept of the ownership over a memory reference (a value), normally indicated by a variable.\n"
   ],
   "metadata": {
    "collapsed": false
   }
  },
  {
   "cell_type": "markdown",
   "source": [
    "## The Rules of References\n",
    "\n",
    "At any given time, you can have either:\n",
    "1. **one mutable** reference\n",
    "2. OR **any number of immutable** references.\n",
    "3. References must always be valid.\n"
   ],
   "metadata": {
    "collapsed": false
   }
  },
  {
   "cell_type": "code",
   "execution_count": 2,
   "outputs": [
    {
     "name": "stdout",
     "output_type": "stream",
     "text": [
      "String\n"
     ]
    }
   ],
   "source": [
    "// Let's create a memory string (`Strings` are stored in the heap) and print it\n",
    "let s = String::from(\"String\");\n",
    "println!(\"{}\", s);"
   ],
   "metadata": {
    "collapsed": false,
    "pycharm": {
     "name": "#%%\n"
    }
   }
  },
  {
   "cell_type": "code",
   "execution_count": 3,
   "outputs": [
    {
     "ename": "Error",
     "evalue": "borrow of moved value: `s`",
     "output_type": "error",
     "traceback": [
      "let new_string_owner = s;",
      "                       ^ value moved here",
      "println!(\"{}\", s);",
      "               ^ value borrowed here after move",
      "let s = String::from(\"String\");",
      "    ^ move occurs because `s` has type `String`, which does not implement the `Copy` trait",
      "borrow of moved value: `s`"
     ]
    }
   ],
   "source": [
    "// we repeat the same steps and then continue at step 2\n",
    "let s = String::from(\"String\");\n",
    "println!(\"{}\", s);\n",
    "// step 2: we point a new variable to be the new owner of that String in the heap\n",
    "let new_string_owner = s;\n",
    "println!(\"{}\", new_string_owner);\n",
    "// and this will fail.\n",
    "// =================================================================\n",
    "// Check how elegantly the compiler tells us that the value \"moved\"\n",
    "// =================================================================\n",
    "println!(\"{}\", s);"
   ],
   "metadata": {
    "collapsed": false,
    "pycharm": {
     "name": "#%%\n"
    }
   }
  },
  {
   "cell_type": "markdown",
   "source": [
    "## Borrowing\n",
    "\n"
   ],
   "metadata": {
    "collapsed": false
   }
  },
  {
   "cell_type": "code",
   "execution_count": 4,
   "outputs": [
    {
     "name": "stdout",
     "output_type": "stream",
     "text": [
      "String\n"
     ]
    }
   ],
   "source": [
    "// if we repeat the same steps but instead use a str slice (string literal), which is immutable ...\n",
    "let s = \"String\";\n",
    "println!(\"{}\", s);\n",
    "// step 2: we point a new variable to be the new owner of that string literal,\n",
    "// but this time we use a reference of a static lifetime str, which is guaranteed to be valid for the duration of the entire program\n",
    "let new_string_owner = s;\n",
    "println!(\"{}\", new_string_owner);\n",
    "// and this will just work.\n",
    "// ==========================\n",
    "// Why does it work now?\n",
    "// ==========================\n",
    "// Because the variable is not mutable (slice), and is statical\n",
    "println!(\"{}\", s);"
   ],
   "metadata": {
    "collapsed": false,
    "pycharm": {
     "name": "#%%\n"
    }
   }
  },
  {
   "cell_type": "code",
   "execution_count": 5,
   "outputs": [
    {
     "name": "stdout",
     "output_type": "stream",
     "text": [
      "String\n",
      "String(Modified)\n",
      "String(Modified)\n"
     ]
    }
   ],
   "source": [
    "// Borrowing mutable String\n",
    "// if we repeat the same steps but instead use a String that is mutable ...\n",
    "let mut s = String::from(\"String\");\n",
    "println!(\"{}\", s);\n",
    "// step 2: we point a new variable to be the new owner of that string literal,\n",
    "// but this time we use a reference of a static lifetime str, which is guaranteed to be valid for the duration of the entire program\n",
    "let mut new_string_owner = s;\n",
    "new_string_owner += \"(Modified)\";\n",
    "println!(\"{}\", new_string_owner);\n",
    "// and this will just NOT work. (try for yourself uncommenting and running it)\n",
    "// println!(\"{}\", s);\n",
    "// ==========================\n",
    "// Why doesn't it work now?\n",
    "// ==========================\n",
    "// Because the variable is now mutable, String lives in the heap and it does not implement `Copy`\n",
    "\n",
    "// If we regain ownership, it all works as expected though!\n",
    "// Give me my var back!\n",
    "s = new_string_owner;\n",
    "println!(\"{}\", s);\n",
    "\n",
    "// And this again won't work (try uncommenting). 'new_string_owner' is not anymore the current owner of the String value.\n",
    "// println!(\"{}\", new_string_owner);\n",
    "// If you would uncomment you can see a very descriptive explanation from the compiler."
   ],
   "metadata": {
    "collapsed": false,
    "pycharm": {
     "name": "#%%\n"
    }
   }
  },
  {
   "cell_type": "markdown",
   "source": [
    "## Rust Compiler on borrowed and moved\n",
    "\n",
    "Rust compiler gives us very meaningfull messages about the borrowing and moving of variables.\n",
    "Reading the trace almost always suggest the root cause issue."
   ],
   "metadata": {
    "collapsed": false
   }
  },
  {
   "cell_type": "code",
   "execution_count": 6,
   "outputs": [
    {
     "ename": "Error",
     "evalue": "borrow of moved value: `new_string_owner`",
     "output_type": "error",
     "traceback": [
      "s = new_string_owner;",
      "    ^^^^^^^^^^^^^^^^ value moved here",
      "println!(\"{}\", new_string_owner);",
      "               ^^^^^^^^^^^^^^^^ value borrowed here after move",
      "let mut new_string_owner = s;",
      "    ^^^^^^^^^^^^^^^^^^^^ move occurs because `new_string_owner` has type `String`, which does not implement the `Copy` trait",
      "borrow of moved value: `new_string_owner`"
     ]
    }
   ],
   "source": [
    "// Borrowing mutable String\n",
    "let mut s = String::from(\"String\");\n",
    "println!(\"{}\", s);\n",
    "let mut new_string_owner = s;\n",
    "new_string_owner += \"(Modified)\";\n",
    "println!(\"{}\", new_string_owner);\n",
    "// Give me my var back!\n",
    "s = new_string_owner;\n",
    "println!(\"{}\", s);\n",
    "\n",
    "// And this again won't work (try uncommenting). 'new_string_owner' is not anymore the current owner of the String value.\n",
    "println!(\"{}\", new_string_owner);\n",
    "// If you would uncomment you can see a very descriptive explanation from the compiler."
   ],
   "metadata": {
    "collapsed": false,
    "pycharm": {
     "name": "#%%\n"
    }
   }
  },
  {
   "cell_type": "markdown",
   "source": [
    "## Borrowing when using functions\n",
    "\n",
    "Passing a variable to a function will move or copy, just as assignment does.\n",
    "This means that if a function takes a reference to a heap element (without cloning it or copying it), does something and then quits without returning this reference back, then this element will be dropped at the end of the function call.\n"
   ],
   "metadata": {
    "collapsed": false
   }
  },
  {
   "cell_type": "code",
   "execution_count": 23,
   "outputs": [
    {
     "name": "stdout",
     "output_type": "stream",
     "text": [
      "example\n",
      "example value appended\n"
     ]
    }
   ],
   "source": [
    "// Spoiler: this code seems to work properly\n",
    "\n",
    "// This code mutates a string\n",
    "fn append_to_string_taking_ownership(mut s: String) {\n",
    "    s += \" value appended\";\n",
    "    println!(\"{}\", s);\n",
    "}\n",
    "\n",
    "let mut s = String::from(\"example\");\n",
    "\n",
    "println!(\"{}\", s);\n",
    "\n",
    "append_to_string_taking_ownership(s);\n"
   ],
   "metadata": {
    "collapsed": false,
    "pycharm": {
     "name": "#%%\n"
    }
   }
  },
  {
   "cell_type": "code",
   "execution_count": 22,
   "outputs": [
    {
     "ename": "Error",
     "evalue": "borrow of moved value: `s`",
     "output_type": "error",
     "traceback": [
      "append_to_string_taking_ownership_wrongly(s);",
      "                                          ^ value moved here",
      "println!(\"{}\", s);",
      "               ^ value borrowed here after move",
      "let mut s = String::from(\"example\");",
      "    ^^^^^ move occurs because `s` has type `String`, which does not implement the `Copy` trait",
      "borrow of moved value: `s`"
     ]
    }
   ],
   "source": [
    "// Spoiler: This code forgets to return the mutated String back and it won't work as expected\n",
    "// This code mutates a string\n",
    "fn append_to_string_taking_ownership_wrongly(mut s: String) {\n",
    "    s += \" value appended\";\n",
    "    println!(\"{}\", s);\n",
    "}\n",
    "\n",
    "let mut s = String::from(\"example\");\n",
    "\n",
    "println!(\"{}\", s);\n",
    "\n",
    "append_to_string_taking_ownership_wrongly(s);\n",
    "\n",
    "println!(\"{}\", s);"
   ],
   "metadata": {
    "collapsed": false,
    "pycharm": {
     "name": "#%%\n"
    }
   }
  },
  {
   "cell_type": "code",
   "execution_count": 37,
   "outputs": [
    {
     "name": "stdout",
     "output_type": "stream",
     "text": [
      "key1:value1\n",
      "key2:value2\n",
      "key3:value3\n"
     ]
    },
    {
     "data": {
      "text/plain": "()"
     },
     "execution_count": 37,
     "metadata": {},
     "output_type": "execute_result"
    }
   ],
   "source": [
    "use std::collections::HashMap;\n",
    "\n",
    "// Declaring a mutable map\n",
    "let mut map: HashMap<&str, &str> = HashMap::new();\n",
    "\n",
    "// Fill in some values\n",
    "map.insert(\"key1\", \"value1\");\n",
    "map.insert(\"key2\", \"value2\");\n",
    "map.insert(\"key3\", \"value3\");\n",
    "\n",
    "// iterate the keys and values\n",
    "for (key, value) in map {\n",
    "    println!(\"{}:{}\", key, value);\n",
    "}\n"
   ],
   "metadata": {
    "collapsed": false,
    "pycharm": {
     "name": "#%%\n"
    }
   }
  },
  {
   "cell_type": "code",
   "execution_count": 38,
   "outputs": [
    {
     "ename": "Error",
     "evalue": "use of moved value: `map`",
     "output_type": "error",
     "traceback": [
      "for (key, value) in map {",
      "                    ^^^ `map` moved due to this implicit call to `.into_iter()`",
      "for (key, value) in map {",
      "                    ^^^ value used here after move",
      "let mut map: HashMap<&str, &str> = HashMap::new();",
      "    ^^^^^^^ move occurs because `map` has type `HashMap<&str, &str>`, which does not implement the `Copy` trait",
      "use of moved value: `map`",
      "help: consider borrowing to avoid moving into the for loop\n\n&map"
     ]
    }
   ],
   "source": [
    "use std::collections::HashMap;\n",
    "\n",
    "// If you try to iterate a HashMap two times it will result in a compiler error\n",
    "\n",
    "let mut map: HashMap<&str, &str> = HashMap::new();\n",
    "\n",
    "map.insert(\"key1\", \"value1\");\n",
    "map.insert(\"key2\", \"value2\");\n",
    "map.insert(\"key3\", \"value3\");\n",
    "\n",
    "// iterate the keys and values for the first time\n",
    "for (key, value) in map {\n",
    "    println!(\"{}:{}\", key, value);\n",
    "}\n",
    "\n",
    "// iterate the keys and values for the second time results in an error:\n",
    "for (key, value) in map {\n",
    "println!(\"{}:{}\", key, value);\n",
    "}\n",
    "\n",
    "// for loops take the value to iterate over by value\n",
    "// ===============================================================\n",
    "// Why?\n",
    "// ===============================================================\n",
    "// When we call for (key, value) in map {}, the ownership of map is transferred to the for loop and afterwards it is gone, as it does not implement Copy.\n",
    "//"
   ],
   "metadata": {
    "collapsed": false,
    "pycharm": {
     "name": "#%%\n"
    }
   }
  },
  {
   "cell_type": "code",
   "execution_count": 41,
   "outputs": [
    {
     "name": "stdout",
     "output_type": "stream",
     "text": [
      "key1:value1\n",
      "key2:value2\n",
      "key3:value3\n",
      "key1:value1\n",
      "key2:value2\n",
      "key3:value3\n"
     ]
    },
    {
     "data": {
      "text/plain": "()"
     },
     "execution_count": 41,
     "metadata": {},
     "output_type": "execute_result"
    }
   ],
   "source": [
    "use std::collections::HashMap;\n",
    "\n",
    "// How avoid this?\n",
    "\n",
    "let mut map: HashMap<&str, &str> = HashMap::new();\n",
    "\n",
    "map.insert(\"key1\", \"value1\");\n",
    "map.insert(\"key2\", \"value2\");\n",
    "map.insert(\"key3\", \"value3\");\n",
    "\n",
    "// iterate the keys and values using an explicit type reference iterator. Note that we are not mutating the values\n",
    "// otherwise this would not work\n",
    "for (key, value) in map.iter() {\n",
    "    println!(\"{}:{}\", key, value);\n",
    "}\n",
    "\n",
    "// iterate the keys and values for the second time results then works:\n",
    "for (key, value) in map.iter() {\n",
    "    println!(\"{}:{}\", key, value);\n",
    "}\n",
    "\n",
    "// iter() loops iterate over by reference\n",
    "// ===============================================================\n",
    "// Why?\n",
    "// ===============================================================\n",
    "// When we call for (key, value) in map.iter() {}, we use many references which are not mutable.\n",
    "//"
   ],
   "metadata": {
    "collapsed": false,
    "pycharm": {
     "name": "#%%\n"
    }
   }
  },
  {
   "cell_type": "markdown",
   "source": [
    "### The three forms of iteration\n",
    "\n",
    "There are three common methods which can create iterators from a collection:\n",
    "\n",
    "1. iter(), which iterates over &T.\n",
    "2. iter_mut(), which iterates over &mut T.\n",
    "3. into_iter(), which iterates over T.\n",
    "\n",
    "4. Various things in the standard library may implement one or more of the three, where appropriate."
   ],
   "metadata": {
    "collapsed": false,
    "pycharm": {
     "name": "#%% md\n"
    }
   }
  },
  {
   "cell_type": "code",
   "execution_count": null,
   "outputs": [],
   "source": [],
   "metadata": {
    "collapsed": false,
    "pycharm": {
     "name": "#%%\n"
    }
   }
  }
 ],
 "metadata": {
  "kernelspec": {
   "display_name": "Rust",
   "language": "rust",
   "name": "rust"
  },
  "language_info": {
   "name": "Rust",
   "version": "",
   "mimetype": "text/rust",
   "file_extension": ".rs",
   "pygment_lexer": "rust",
   "codemirror_mode": "rust"
  },
  "nteract": {
   "version": "0.28.0"
  }
 },
 "nbformat": 4,
 "nbformat_minor": 5
}