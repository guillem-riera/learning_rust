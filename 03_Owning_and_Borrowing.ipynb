{
 "cells": [
  {
   "cell_type": "markdown",
   "id": "extraordinary-terminal",
   "metadata": {},
   "source": [
    "# Owning and Borrowing\n",
    "\n",
    "Are concepts for safe memory management\n",
    "\n",
    "## Owning\n",
    "\n",
    "is the concept of the ownership over a memory reference (a value), normally indicated by a variable.\n"
   ]
  },
  {
   "cell_type": "code",
   "execution_count": 7,
   "id": "cosmetic-stick",
   "metadata": {},
   "outputs": [
    {
     "name": "stdout",
     "output_type": "stream",
     "text": [
      "String\n"
     ]
    }
   ],
   "source": [
    "// Let's create a memory string (`Strings` are stored in the heap) and print it\n",
    "let s = String::from(\"String\");\n",
    "println!(\"{}\", s);"
   ]
  },
  {
   "cell_type": "code",
   "execution_count": 8,
   "id": "peripheral-initial",
   "metadata": {},
   "outputs": [
    {
     "ename": "Error",
     "evalue": "borrow of moved value: `s`",
     "output_type": "error",
     "traceback": [
      "let new_string_owner = s;",
      "\u001b[91m                       ^\u001b[0m \u001b[94mvalue moved here\u001b[0m",
      "println!(\"{}\", s);",
      "\u001b[91m               ^\u001b[0m \u001b[94mvalue borrowed here after move\u001b[0m",
      "let s = String::from(\"String\");",
      "\u001b[91m    ^\u001b[0m \u001b[94mmove occurs because `s` has type `String`, which does not implement the `Copy` trait\u001b[0m",
      "borrow of moved value: `s`"
     ]
    }
   ],
   "source": [
    "// we repeat the same steps and then continue at step 2\n",
    "let s = String::from(\"String\");\n",
    "println!(\"{}\", s);\n",
    "// step 2: we point a new variable to be the new owner of that String in the heap\n",
    "let new_string_owner = s;\n",
    "println!(\"{}\", new_string_owner);\n",
    "// and this will fail. Check how the compiler tells us that the value \"moved\"\n",
    "println!(\"{}\", s);"
   ]
  },
  {
   "cell_type": "markdown",
   "id": "static-keeping",
   "metadata": {},
   "source": [
    "## Borrowing\n",
    "\n"
   ]
  },
  {
   "cell_type": "code",
   "execution_count": null,
   "id": "pediatric-salad",
   "metadata": {},
   "outputs": [],
   "source": [
    "// we repeat the same steps and then continue at step 2\n",
    "let mut s = String::from(\"String\");\n",
    "println!(\"{}\", s);\n",
    "// step 2: we point a new variable to be the new owner of that String in the heap\n",
    "// but this time we use a reference\n",
    "let new_string_owner = &s;\n",
    "println!(\"{}\", new_string_owner);\n",
    "// and this will fail. Check how the compiler tells us that the value \"moved\"\n",
    "println!(\"{}\", s);"
   ]
  }
 ],
 "metadata": {
  "kernelspec": {
   "display_name": "Rust",
   "language": "rust",
   "name": "rust"
  },
  "language_info": {
   "codemirror_mode": "rust",
   "file_extension": ".rs",
   "mimetype": "text/rust",
   "name": "Rust",
   "pygment_lexer": "rust",
   "version": ""
  }
 },
 "nbformat": 4,
 "nbformat_minor": 5
}
